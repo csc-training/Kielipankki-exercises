{
 "cells": [
  {
   "cell_type": "markdown",
   "id": "a6ce541f",
   "metadata": {},
   "source": [
    "# Working with Kielipankki data: loading and operating on VRT\n",
    "\n",
    "Welcome to this Notebook! It's divided into cells, which are kind of like extremely advanced Excel cells. They contain either formatted text (like this one), or code in the Python programming language which can be run with the results displayed inline.\n",
    "\n",
    "This is a text cell, but next we'll have a code cell:"
   ]
  },
  {
   "cell_type": "code",
   "execution_count": null,
   "id": "841ebd68",
   "metadata": {},
   "outputs": [],
   "source": [
    "print(\"I'm a code cell!\") # And I'm a comment, so I will not show up in the output"
   ]
  },
  {
   "cell_type": "markdown",
   "id": "a5d4f27f",
   "metadata": {},
   "source": [
    "If you want to run the code in a code cell, you can hit `Control` + `enter` in the cell. You can also run cells from the menu at the top, under \"Cell\". There you can also change cell type. You can insert new cells under \"Insert\", or with keyboard shortcuts you can learn about there.\n",
    "\n",
    "In this Notebook, run each code block in sequence with Control + enter on each one, and wait for them to finish. When a code block is running, an asterisk (`*`) shows on the left side, and when it's finished, a number appears indicating the order the code blocks have been executed in. If you want to change something in a code block, just hit enter and edit, or double-click on the code. The results will change once you run the code with your changes.\n",
    "\n",
    "Now for some programming magic stuff.."
   ]
  },
  {
   "cell_type": "code",
   "execution_count": null,
   "id": "060036af",
   "metadata": {},
   "outputs": [],
   "source": [
    "# These import statements bring in additional modules that we're going to use\n",
    "import datetime\n",
    "\n",
    "from course_utils import VrtReader, data_dir\n",
    "# Some helpers for the course environment"
   ]
  },
  {
   "cell_type": "markdown",
   "id": "778f8a23",
   "metadata": {},
   "source": [
    "If the earlier data downloading exercise has been completed successfully, you should have a `.vrt` file, or several, available for reading. Using some prepared code we can now read the VRT data into a nice Python data structure. `course_utils` is not a real software library, but just some data ingestion code we wrote to accomplish this for this Notebook."
   ]
  },
  {
   "cell_type": "code",
   "execution_count": null,
   "id": "91c6411b",
   "metadata": {},
   "outputs": [],
   "source": [
    "# If you have a different file, change the name here!\n",
    "vrt_filename = \"eduskunta-v1.5-vrt/eduskunta.vrt\"\n",
    "vrt = VrtReader(data_dir + vrt_filename, max_texts = 500)\n",
    "# Now the variable \"vrt\" is of the type \"VrtReader\" and we can use some fields and functions special to it.\n",
    "# For example, there's an \"info\" function that gives a helpful textual summary of its features.\n",
    "print(vrt.info())"
   ]
  },
  {
   "cell_type": "markdown",
   "id": "cccf77e5",
   "metadata": {},
   "source": [
    "`VrtReader` has a field called `texts`, which is a list of texts, and each text has a `date`. We can define a list of dates, and find the minimum (earliest) and maximum (latest) dates like this:"
   ]
  },
  {
   "cell_type": "code",
   "execution_count": null,
   "id": "a4535da9",
   "metadata": {},
   "outputs": [],
   "source": [
    "dates = [text.date for text in vrt.texts]\n",
    "min_date = min(dates)\n",
    "max_date = max(dates)\n",
    "# We can convert dates to text and print them\n",
    "print(\"The earliest text is from \" + str(min_date))\n",
    "print(\"The latest text is from \" + str(max_date))"
   ]
  },
  {
   "cell_type": "markdown",
   "id": "adcea4b6",
   "metadata": {},
   "source": [
    "Even though `VrtReader` is not a \"real\" library, it can still give some helpful information about what it can do:"
   ]
  },
  {
   "cell_type": "code",
   "execution_count": null,
   "id": "363754b0",
   "metadata": {},
   "outputs": [],
   "source": [
    "help(VrtReader)"
   ]
  },
  {
   "cell_type": "markdown",
   "id": "2c7df7c4",
   "metadata": {},
   "source": [
    "Let's see what the functions `map_tokens_to_field()`, `token_field_is_value()` and `token_values()` can do.\n",
    "\n",
    "First, `field_values()` lists what values the token fields have, ie. what annotations have been used in, say, the `msd` field."
   ]
  },
  {
   "cell_type": "code",
   "execution_count": null,
   "id": "75f607ee",
   "metadata": {},
   "outputs": [],
   "source": [
    "vrt.field_values('pos')"
   ]
  },
  {
   "cell_type": "markdown",
   "id": "fc472e21",
   "metadata": {},
   "source": [
    "`map_tokens_to_field()` and `token_field_is_value()` can be used to filter and select tokens and fields. For now, let's do that to one singular text, using the `tokens()` of the first text in the file, ie. `vrt.texts[0]`:"
   ]
  },
  {
   "cell_type": "code",
   "execution_count": null,
   "id": "650b92c3",
   "metadata": {},
   "outputs": [],
   "source": [
    "# This will be a list of those tokens that have \"V\" as their \"pos\"\n",
    "verbs_only = [token for token in vrt.texts[0].tokens() if vrt.token_field_is_value(token, \"pos\", \"V\")]\n",
    "# This will be a list of the lemmas of those tokens\n",
    "verb_lemmas = vrt.map_tokens_to_field(verbs_only, \"lemma\")\n",
    "print(verb_lemmas)"
   ]
  },
  {
   "cell_type": "markdown",
   "id": "5054fe07",
   "metadata": {},
   "source": [
    "Okay, that's enough for this Notebook. Feel free to play around with the data, you won't break anything. See you in the next Notebook on doing some analysis!"
   ]
  }
 ],
 "metadata": {
  "kernelspec": {
   "display_name": "Python 3 (ipykernel)",
   "language": "python",
   "name": "python3"
  },
  "language_info": {
   "codemirror_mode": {
    "name": "ipython",
    "version": 3
   },
   "file_extension": ".py",
   "mimetype": "text/x-python",
   "name": "python",
   "nbconvert_exporter": "python",
   "pygments_lexer": "ipython3",
   "version": "3.10.6"
  }
 },
 "nbformat": 4,
 "nbformat_minor": 5
}

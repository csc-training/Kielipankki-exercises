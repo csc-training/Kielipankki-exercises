{
 "cells": [
  {
   "cell_type": "markdown",
   "id": "a6ce541f",
   "metadata": {},
   "source": [
    "# Working with Kielipankki data: loading and operating on VRT\n",
    "\n",
    "Welcome to this Notebook! It's divided into cells, which are kind of like extremely advanced Excel cells. They contain either formatted text (like this one), or code in the Python programming language which can be run with the results displayed inline.\n",
    "\n",
    "This is a text cell, but next we'll have a code cell:"
   ]
  },
  {
   "cell_type": "code",
   "execution_count": 1,
   "id": "841ebd68",
   "metadata": {
    "scrolled": true
   },
   "outputs": [
    {
     "name": "stdout",
     "output_type": "stream",
     "text": [
      "I'm a code cell!\n"
     ]
    }
   ],
   "source": [
    "print(\"I'm a code cell!\") # And I'm a comment, so I will not show up in the output"
   ]
  },
  {
   "cell_type": "markdown",
   "id": "a5d4f27f",
   "metadata": {},
   "source": [
    "If you want to run the code in a code cell, you can hit `Control` + `enter` in the cell. You can also run cells from the menu at the top, under \"Cell\". There you can also change cell type. You can insert new cells under \"Insert\", or with keyboard shortcuts you can learn about there.\n",
    "\n",
    "In this Notebook, run each code block in sequence with Control + enter on each one, and wait for them to finish. When a code block is running, an asterisk (`*`) shows on the left side, and when it's finished, a number appears indicating the order the code blocks have been executed in. If you want to change something in a code block, just hit enter and edit, or double-click on the code. The results will change once you run the code with your changes.\n",
    "\n",
    "Now for some programming magic stuff.."
   ]
  },
  {
   "cell_type": "code",
   "execution_count": 3,
   "id": "060036af",
   "metadata": {},
   "outputs": [],
   "source": [
    "# These import statements bring in additional modules that we're going to use\n",
    "import Vrt\n",
    "import datetime\n",
    "\n",
    "from course_utils import data_dir\n",
    "# Some helpers for the course environment"
   ]
  },
  {
   "cell_type": "markdown",
   "id": "778f8a23",
   "metadata": {},
   "source": [
    "If the earlier data downloading exercise has been completed successfully, you should have a `.vrt` file, or several, available for reading. Using some prepared code we can read in the VRT data into a nice Python data structure. `Vrt` is not a real software library, but just some data ingestion code we wrote to accomplish this for this Notebook."
   ]
  },
  {
   "cell_type": "code",
   "execution_count": 4,
   "id": "91c6411b",
   "metadata": {
    "scrolled": true
   },
   "outputs": [
    {
     "name": "stdout",
     "output_type": "stream",
     "text": [
      "\n",
      "Document contains\n",
      "    2,324 texts\n",
      "    74,108 sentences\n",
      "    847,135 tokens\n",
      "Text attributes are\n",
      "    timeto\n",
      "    datetime_json_modified\n",
      "    publisher\n",
      "    datetime_published\n",
      "    dateto\n",
      "    timefrom\n",
      "    datetime_content_modified\n",
      "    departments\n",
      "    datefrom\n",
      "    main_department\n",
      "    id\n",
      "    url\n",
      "Sentence attributes are\n",
      "    paragraph_type\n",
      "    type\n",
      "    id\n",
      "Token fields are\n",
      "    word\n",
      "    ref\n",
      "    lemma\n",
      "    lemmacomp\n",
      "    pos\n",
      "    msd\n",
      "    dephead\n",
      "    deprel\n",
      "    lex/\n",
      "\n"
     ]
    }
   ],
   "source": [
    "# If you have a different file, change the name here!\n",
    "vrt_filename = \"M.vrt\"\n",
    "vrt = Vrt.VrtReader(data_dir + vrt_filename)\n",
    "# Now the variable \"vrt\" is of the type \"VrtReader\" and we can use some fields and functions special to it.\n",
    "# For example, there's an \"info\" function that gives a helpful textual summary of its features.\n",
    "print(vrt.info())"
   ]
  },
  {
   "cell_type": "markdown",
   "id": "cccf77e5",
   "metadata": {},
   "source": [
    "`VrtReader` has a field called `texts`, which is a list of texts, and each text has a `date`. We can define a list of dates, and find the minimum (earliest) and maximum (latest) dates like this:"
   ]
  },
  {
   "cell_type": "code",
   "execution_count": 4,
   "id": "a4535da9",
   "metadata": {},
   "outputs": [
    {
     "name": "stdout",
     "output_type": "stream",
     "text": [
      "The earliest text is from 2018-12-31\n",
      "The latest text is from 2019-01-13\n"
     ]
    }
   ],
   "source": [
    "dates = [text.date for text in vrt.texts]\n",
    "min_date = min(dates)\n",
    "max_date = max(dates)\n",
    "# We can convert dates to text and print them\n",
    "print(\"The earliest text is from \" + str(min_date))\n",
    "print(\"The latest text is from \" + str(max_date))"
   ]
  },
  {
   "cell_type": "markdown",
   "id": "adcea4b6",
   "metadata": {},
   "source": [
    "Even though `Vrt` is not a \"real\" library, it can still give some helpful information about what it can do:"
   ]
  },
  {
   "cell_type": "code",
   "execution_count": 5,
   "id": "363754b0",
   "metadata": {
    "scrolled": true
   },
   "outputs": [
    {
     "name": "stdout",
     "output_type": "stream",
     "text": [
      "Help on module Vrt:\n",
      "\n",
      "NAME\n",
      "    Vrt\n",
      "\n",
      "CLASSES\n",
      "    builtins.object\n",
      "        VrtReader\n",
      "    \n",
      "    class VrtReader(builtins.object)\n",
      "     |  VrtReader(vrt_file)\n",
      "     |  \n",
      "     |  Read and provide an interface to a VRT file.\n",
      "     |  \n",
      "     |  Methods defined here:\n",
      "     |  \n",
      "     |  __init__(self, vrt_file)\n",
      "     |      vrt_file should be either a file object or a file name.\n",
      "     |  \n",
      "     |  info(self)\n",
      "     |      Return a multi-line string with some summary information.\n",
      "     |  \n",
      "     |  map_tokens_to_field(self, tokens, field)\n",
      "     |      Given a list of tokens and a field name, return a list of values in that field\n",
      "     |  \n",
      "     |  token_field_is_value(self, token, field, value)\n",
      "     |      True iff given token has given value in given field\n",
      "     |  \n",
      "     |  token_values(self, field)\n",
      "     |      Return a list of values seen in a named field\n",
      "     |  \n",
      "     |  ----------------------------------------------------------------------\n",
      "     |  Data descriptors defined here:\n",
      "     |  \n",
      "     |  __dict__\n",
      "     |      dictionary for instance variables (if defined)\n",
      "     |  \n",
      "     |  __weakref__\n",
      "     |      list of weak references to the object (if defined)\n",
      "     |  \n",
      "     |  ----------------------------------------------------------------------\n",
      "     |  Data and other attributes defined here:\n",
      "     |  \n",
      "     |  VrtSentence = <class 'Vrt.VrtReader.VrtSentence'>\n",
      "     |  \n",
      "     |  VrtText = <class 'Vrt.VrtReader.VrtText'>\n",
      "\n",
      "FILE\n",
      "    /home/shardwic/github/courses/Kielipankki-exercises/src/Vrt.py\n",
      "\n",
      "\n"
     ]
    }
   ],
   "source": [
    "help(Vrt)"
   ]
  },
  {
   "cell_type": "markdown",
   "id": "2c7df7c4",
   "metadata": {},
   "source": [
    "Let's see what the functions `map_tokens_to_field()`, `token_field_is_value()` and `token_values()` can do.\n",
    "\n",
    "First, `field_values()` lists what values the token fields have, ie. what annotations have been used in, say, the `msd` field."
   ]
  },
  {
   "cell_type": "code",
   "execution_count": 9,
   "id": "75f607ee",
   "metadata": {
    "scrolled": true
   },
   "outputs": [
    {
     "ename": "AttributeError",
     "evalue": "'VrtReader' object has no attribute 'field_values'",
     "output_type": "error",
     "traceback": [
      "\u001b[0;31m---------------------------------------------------------------------------\u001b[0m",
      "\u001b[0;31mAttributeError\u001b[0m                            Traceback (most recent call last)",
      "\u001b[0;32m/tmp/ipykernel_42967/1842616603.py\u001b[0m in \u001b[0;36m<module>\u001b[0;34m\u001b[0m\n\u001b[0;32m----> 1\u001b[0;31m \u001b[0mvrt\u001b[0m\u001b[0;34m.\u001b[0m\u001b[0mfield_values\u001b[0m\u001b[0;34m(\u001b[0m\u001b[0;34m'pos'\u001b[0m\u001b[0;34m)\u001b[0m\u001b[0;34m\u001b[0m\u001b[0;34m\u001b[0m\u001b[0m\n\u001b[0m",
      "\u001b[0;31mAttributeError\u001b[0m: 'VrtReader' object has no attribute 'field_values'"
     ]
    }
   ],
   "source": [
    "vrt.field_values('pos')"
   ]
  },
  {
   "cell_type": "markdown",
   "id": "fc472e21",
   "metadata": {},
   "source": [
    "`map_tokens_to_field()` and `token_field_is_value()` can be used to filter and select tokens and fields. For now, let's do that to one singular text, using the `tokens()` of the first text in the file, ie. `vrt.texts[0]`:"
   ]
  },
  {
   "cell_type": "code",
   "execution_count": 11,
   "id": "650b92c3",
   "metadata": {},
   "outputs": [
    {
     "name": "stdout",
     "output_type": "stream",
     "text": [
      "['kääntyä', 'katsoa', 'huomata', 'olla', 'hohtaa', 'olla', 'muistaa', 'särkyä', 'karata', 'näyttää', 'olla', 'jatkua', 'ajatella', 'kokeilla', 'vaikuttaa', 'kiihtyä', 'seurata', 'muistuttaa', 'olla', 'ostaa', 'olla', 'ettei', 'nähdä', 'keittää', 'olla', 'lähteä', 'ellei', 'olla', 'sattua', 'laittaa', 'alkaa', 'syöttää', 'alkaa', 'kehkeytyä', 'olla', 'tietää', 'ettei', 'sijaita', 'ei', 'pystyä', 'kurkistaa', 'olla', 'peljätä', 'joutua', 'soittaa', 'ei', 'näyttää', 'kiihtyä', 'ei', 'haistaa', 'olla', 'syttyä', 'palaa', 'olla', 'terästää', 'tulla', 'tutkia', 'olla', 'onkia', 'suoristaa', 'tehdä', 'alkaa', 'nukuttaa', 'estää', 'nukahtaa', 'kontata', 'koettaa', 'työntää', 'hohtaa', 'olla', 'pulpahtaa', 'olla', 'tulla', 'riippua', 'kulkea', 'kadota', 'olla', 'hyytyä', 'olla', 'leijua', 'olla', 'upota', 'ilmestyä', 'miettiä', 'olla', 'koskea', 'alkaa', 'imeytyä', 'olla', 'kiristyä', 'alkaa', 'kiihtyä', 'upota', 'olla', 'alkaa', 'suoltua', 'kadota', 'olla', 'olla', 'olla', 'olla', 'tehdä', 'kirvoittaa', 'miettiä', 'saattaa', 'olla', 'nähdä', 'piillä', 'sijaita', 'ei', 'saada', 'viuhahtaa', 'syöksyä', 'kuulua', 'tulla', 'tulla', 'pitää', 'sattua', 'hyytyä', 'olla', 'leijua', 'saattaa', 'olla', 'nähdä', 'piillä', 'miettiä', 'asettautua', 'katsoa', 'kuunnella', 'olla', 'ostaa', 'päättää', 'kokeilla', 'haluta', 'nähdä', 'piillä', 'olla', 'työntää', 'tuntua', 'alkaa', 'lämmitä', 'lämmittää', 'peilata', 'napsauttaa', 'kontata', 'työntää', 'murtua', 'katsoa', 'ottaa', 'ryhtyä', 'työntää', 'voida', 'näyttää', 'katsoa', 'ei', 'nukuttaa', 'laittaa', 'oikaista', 'irrottaa', 'olla', 'ei', 'olla', 'muistaa', 'olla', 'tuutia', 'pitää', 'alkaa', 'valua', 'olla', 'lisätä', 'kiskoa', 'kävellä', 'avata', 'sulkea', 'olla', 'läpäistä', 'olla', 'imaista', 'kuulua', 'harata', 'pursuta', 'olla', 'ei', 'syöttää', 'ei', 'upota']\n"
     ]
    }
   ],
   "source": [
    "# This will be a list of those tokens that have \"V\" as their \"pos\"\n",
    "verbs_only = [token for token in vrt.texts[0].tokens() if vrt.token_field_is_value(token, \"pos\", \"V\")]\n",
    "# This will be a list of the lemmas of those tokens\n",
    "verb_lemmas = vrt.map_tokens_to_field(verbs_only, \"lemma\")\n",
    "print(verb_lemmas)"
   ]
  },
  {
   "cell_type": "markdown",
   "id": "5054fe07",
   "metadata": {},
   "source": [
    "Okay, that's enough for this Notebook. Feel free to play around with the data, you won't break anything. See you in the next Notebook on doing some analysis!"
   ]
  }
 ],
 "metadata": {
  "kernelspec": {
   "display_name": "Python 3 (ipykernel)",
   "language": "python",
   "name": "python3"
  },
  "language_info": {
   "codemirror_mode": {
    "name": "ipython",
    "version": 3
   },
   "file_extension": ".py",
   "mimetype": "text/x-python",
   "name": "python",
   "nbconvert_exporter": "python",
   "pygments_lexer": "ipython3",
   "version": "3.10.6"
  }
 },
 "nbformat": 4,
 "nbformat_minor": 5
}
